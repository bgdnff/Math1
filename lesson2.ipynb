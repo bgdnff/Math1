{
 "cells": [
  {
   "cell_type": "code",
   "execution_count": 1,
   "metadata": {},
   "outputs": [],
   "source": [
    "# задания к разделу 4, задания к разделу 3 в ноутбуке lesson1"
   ]
  },
  {
   "cell_type": "markdown",
   "metadata": {},
   "source": [
    "#### Задание 4.1"
   ]
  },
  {
   "cell_type": "code",
   "execution_count": 2,
   "metadata": {},
   "outputs": [],
   "source": [
    "%matplotlib inline\n",
    "import numpy as np\n",
    "import matplotlib.pyplot as plt\n",
    "import matplotlib.mlab as mlab"
   ]
  },
  {
   "cell_type": "code",
   "execution_count": 3,
   "metadata": {},
   "outputs": [
    {
     "name": "stdout",
     "output_type": "stream",
     "text": [
      "\n",
      "выпадает  29\n",
      "\n",
      "выпадает  0\n",
      "\n",
      "выпадает  27\n",
      "\n",
      "выпадает  14\n",
      "\n",
      "выпадает  23\n"
     ]
    }
   ],
   "source": [
    "for i in range(0, 5):\n",
    "    a = input()\n",
    "    x = int(np.random.uniform(0, 37))\n",
    "    print('выпадает ', x)\n"
   ]
  },
  {
   "cell_type": "markdown",
   "metadata": {},
   "source": [
    "#### Задание 4.2"
   ]
  },
  {
   "cell_type": "code",
   "execution_count": 43,
   "metadata": {},
   "outputs": [
    {
     "name": "stdout",
     "output_type": "stream",
     "text": [
      "1/36= 0.027777777777777776\n",
      "p(0) =  0.02764\n",
      "p(1) =  0.02764\n",
      "p(0+1)=  0.05428 p(0)+p(1)= 0.05428\n",
      "p(0*0)=  0.00083 p(0)*p(0)= 0.0007639696000000001\n"
     ]
    }
   ],
   "source": [
    "n=100000\n",
    "# сгенерируем набор экспериментов\n",
    "roulette = 37*np.random.rand(n)\n",
    "\n",
    "n0 = 0  # количество выпадения 0\n",
    "n1 = 0  # количество выпадения 1\n",
    "n01 = 0  # количество выпадения 0 или 1\n",
    "n_double0 = 0  # количество выпадения двух нулей подряд\n",
    "was0 = True # флаг был ли предыдущий ноль\n",
    "r=[]\n",
    "for k in range(n):\n",
    "    \n",
    "    i = int(roulette[k])\n",
    "    r.append(i)\n",
    "    if i == 0:\n",
    "        n0 += 1\n",
    "        n01 +=1\n",
    "        if was0:\n",
    "            n_double0 += 1\n",
    "        was0 = 1\n",
    "    elif i == 1:\n",
    "        n1 +=1\n",
    "        n01 +=1\n",
    "        was0 = False\n",
    "    else:\n",
    "        was0 = False\n",
    "p0 = n0/n\n",
    "p1 = n1/n\n",
    "p01 = n01/n\n",
    "p_double0 = n_double0/n\n",
    "print('1/36=',1/36)\n",
    "print('p(0) = ',p0)\n",
    "print('p(1) = ',p0)\n",
    "print('p(0+1)= ',p01, 'p(0)+p(1)=', p0+p1) \n",
    "print('p(0*0)= ',p_double0, 'p(0)*p(0)=', p0*p0)\n"
   ]
  },
  {
   "cell_type": "code",
   "execution_count": 41,
   "metadata": {},
   "outputs": [
    {
     "data": {
      "text/plain": [
       "(2787, 79)"
      ]
     },
     "execution_count": 41,
     "metadata": {},
     "output_type": "execute_result"
    }
   ],
   "source": [
    "# все вероятности довольно близки к теории, кроме последней, она всьма изменчива, ей, видимо, требуется боьшее число испытаний"
   ]
  },
  {
   "cell_type": "markdown",
   "metadata": {},
   "source": [
    "### Задание 4.2.2"
   ]
  },
  {
   "cell_type": "code",
   "execution_count": 47,
   "metadata": {},
   "outputs": [
    {
     "name": "stdout",
     "output_type": "stream",
     "text": [
      "[0.02804195 0.80177211 0.39776851 0.5752638  0.80995029 0.29416688\n",
      " 0.72265908 0.86434885 0.2495404  0.32816498 0.88274578 0.02333616\n",
      " 0.6513758  0.25607849 0.42864755 0.99557014 0.45220121 0.69332046\n",
      " 0.76762708 0.47801723 0.81226808 0.96953457 0.33711535 0.95326864\n",
      " 0.5693085  0.39167692 0.76638902 0.8642819  0.34556405 0.51233703\n",
      " 0.97326605 0.1398046  0.39720452 0.34341121 0.60782106 0.47404643\n",
      " 0.65694426 0.53491108 0.61143067 0.40674534 0.88278766 0.46998609\n",
      " 0.75375186 0.37815607 0.17213705 0.47849777 0.78931095 0.48039561\n",
      " 0.00195787 0.44777553 0.62647206 0.9228764  0.30852223 0.49558782\n",
      " 0.4398325  0.6872773  0.5225102  0.8963716  0.14935806 0.99687838\n",
      " 0.3540962  0.01510211 0.62005802 0.06301947 0.49279239 0.35305446\n",
      " 0.58171943 0.82369961 0.75901372 0.44926117 0.14778072 0.87567936\n",
      " 0.45611581 0.38929625 0.83616807 0.63726478 0.92424047 0.74488227\n",
      " 0.78433258 0.23323375 0.31586439 0.73777205 0.93784423 0.51957973\n",
      " 0.20852656 0.53701216 0.4105432  0.26055052 0.88674082 0.26242012\n",
      " 0.15744844 0.54217935 0.36426257 0.90645192 0.46319983 0.29923489\n",
      " 0.65532788 0.9534635  0.97037686 0.40274121]\n"
     ]
    },
    {
     "data": {
      "image/png": "[encoded data removed]",
      "text/plain": [
       "<Figure size 432x288 with 1 Axes>"
      ]
     },
     "metadata": {
      "needs_background": "light"
     },
     "output_type": "display_data"
    }
   ],
   "source": [
    "x = np.random.rand(100)\n",
    "#for i in range(9):\n",
    "#    spam = np.random.rand(10)\n",
    "#    x = x+spam\n",
    "num_bins = 10\n",
    "n, bins, patches = plt.hist(x, num_bins)\n",
    "plt.xlabel('x')\n",
    "plt.ylabel('Probability')\n",
    "plt.title('Histogram')"
   ]
  },
  {
   "cell_type": "markdown",
   "metadata": {},
   "source": [
    "### Задание 4.3"
   ]
  },
  {
   "cell_type": "code",
   "execution_count": null,
   "metadata": {},
   "outputs": [],
   "source": []
  },
  {
   "cell_type": "code",
   "execution_count": 52,
   "metadata": {},
   "outputs": [],
   "source": [
    "#ФормулаБернулли для k успехов из n попыток(при вероятности отдельного испытания 1/2):\n",
    "\n",
    "def ber(n,k):\n",
    "    \n",
    "    return np.math.factorial(n)/(np.math.factorial(k)*np.math.factorial(n-k)*2**n)\n",
    "\n"
   ]
  },
  {
   "cell_type": "code",
   "execution_count": 54,
   "metadata": {},
   "outputs": [
    {
     "name": "stdout",
     "output_type": "stream",
     "text": [
      "0.375\n",
      "0.09375\n",
      "0.5\n"
     ]
    }
   ],
   "source": [
    "# рассчитаем для разных значений n и k:\n",
    "print(ber(4,2))\n",
    "print(ber(6,1))\n",
    "print(ber(2,1))"
   ]
  },
  {
   "cell_type": "code",
   "execution_count": 55,
   "metadata": {},
   "outputs": [],
   "source": [
    "# вычисление для 4,2 матодом Монте-Карло получилось довольно близко к рассчетному"
   ]
  },
  {
   "cell_type": "markdown",
   "metadata": {},
   "source": [
    "#### Задание 4.4"
   ]
  },
  {
   "cell_type": "code",
   "execution_count": 57,
   "metadata": {},
   "outputs": [],
   "source": [
    "import itertools"
   ]
  },
  {
   "cell_type": "code",
   "execution_count": 58,
   "metadata": {},
   "outputs": [
    {
     "name": "stdout",
     "output_type": "stream",
     "text": [
      "01\n",
      "02\n",
      "03\n",
      "04\n",
      "05\n",
      "10\n",
      "12\n",
      "13\n",
      "14\n",
      "15\n",
      "20\n",
      "21\n",
      "23\n",
      "24\n",
      "25\n",
      "30\n",
      "31\n",
      "32\n",
      "34\n",
      "35\n",
      "40\n",
      "41\n",
      "42\n",
      "43\n",
      "45\n",
      "50\n",
      "51\n",
      "52\n",
      "53\n",
      "54\n"
     ]
    }
   ],
   "source": [
    "\n",
    "for p in itertools.permutations(\"012345\",2):\n",
    "    print(''.join(str(x) for x in p))"
   ]
  },
  {
   "cell_type": "code",
   "execution_count": 59,
   "metadata": {},
   "outputs": [],
   "source": [
    "# число размещений k элементов из n\n",
    "def A(n,k):\n",
    "    egg=1\n",
    "    for i in range(n-k+1,n+1):\n",
    "        egg *=i\n",
    "    return egg"
   ]
  },
  {
   "cell_type": "code",
   "execution_count": 60,
   "metadata": {},
   "outputs": [
    {
     "data": {
      "text/plain": [
       "60"
      ]
     },
     "execution_count": 60,
     "metadata": {},
     "output_type": "execute_result"
    }
   ],
   "source": [
    "A(5, 3)"
   ]
  },
  {
   "cell_type": "code",
   "execution_count": 61,
   "metadata": {},
   "outputs": [
    {
     "data": {
      "text/plain": [
       "12"
      ]
     },
     "execution_count": 61,
     "metadata": {},
     "output_type": "execute_result"
    }
   ],
   "source": [
    "A(4,2)"
   ]
  },
  {
   "cell_type": "markdown",
   "metadata": {},
   "source": [
    "#### Задание 4.5"
   ]
  },
  {
   "cell_type": "code",
   "execution_count": 66,
   "metadata": {},
   "outputs": [
    {
     "data": {
      "text/plain": [
       "0.02572478566033258"
      ]
     },
     "execution_count": 66,
     "metadata": {},
     "output_type": "execute_result"
    }
   ],
   "source": [
    "n = 1000\n",
    "r = 0.9\n",
    "x = np.random.rand(n)\n",
    "y = r*x + (1 - r)*np.random.rand(n)\n",
    "# коэфф корреляции:\n",
    "xm = np.mean(x)\n",
    "ym = np.mean(y)\n",
    "corr = np.sum((x-xm)*(y-ym))/((np.sum((x-xm)**2)*np.sum((y-ym)**2))**1/2)\n",
    "\n",
    "corr"
   ]
  },
  {
   "cell_type": "code",
   "execution_count": null,
   "metadata": {},
   "outputs": [],
   "source": []
  }
 ],
 "metadata": {
  "kernelspec": {
   "display_name": "Python 3",
   "language": "python",
   "name": "python3"
  },
  "language_info": {
   "codemirror_mode": {
    "name": "ipython",
    "version": 3
   },
   "file_extension": ".py",
   "mimetype": "text/x-python",
   "name": "python",
   "nbconvert_exporter": "python",
   "pygments_lexer": "ipython3",
   "version": "3.7.1"
  }
 },
 "nbformat": 4,
 "nbformat_minor": 2
}
